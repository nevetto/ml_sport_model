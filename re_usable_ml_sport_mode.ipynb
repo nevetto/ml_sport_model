{
  "nbformat": 4,
  "nbformat_minor": 0,
  "metadata": {
    "colab": {
      "name": "re_usable_ml_sport_mode.ipynb",
      "provenance": [],
      "authorship_tag": "ABX9TyMoUGf3B8XWLCSrzYwrAIyD",
      "include_colab_link": true
    },
    "kernelspec": {
      "name": "python3",
      "display_name": "Python 3"
    },
    "language_info": {
      "name": "python"
    }
  },
  "cells": [
    {
      "cell_type": "markdown",
      "metadata": {
        "id": "view-in-github",
        "colab_type": "text"
      },
      "source": [
        "<a href=\"https://colab.research.google.com/github/nevetto/ml_sport_model/blob/main/re_usable_ml_sport_mode.ipynb\" target=\"_parent\"><img src=\"https://colab.research.google.com/assets/colab-badge.svg\" alt=\"Open In Colab\"/></a>"
      ]
    },
    {
      "cell_type": "markdown",
      "source": [
        "## TO RE-USE OUR SAVED MODELS"
      ],
      "metadata": {
        "id": "9_H7gpvgbuGo"
      }
    },
    {
      "cell_type": "code",
      "execution_count": 1,
      "metadata": {
        "id": "-sG0485fbOvn"
      },
      "outputs": [],
      "source": [
        "from sklearn.tree import DecisionTreeClassifier\n",
        "import sklearn.externals\n",
        "import joblib"
      ]
    },
    {
      "cell_type": "code",
      "source": [
        "model = joblib.load('ml_sport_model.joblib')"
      ],
      "metadata": {
        "id": "WtPu31zJdG3K"
      },
      "execution_count": 2,
      "outputs": []
    },
    {
      "cell_type": "code",
      "source": [
        "new_student2 = model.predict([[15,4,1]])"
      ],
      "metadata": {
        "colab": {
          "base_uri": "https://localhost:8080/"
        },
        "id": "AI7UMGyVdayO",
        "outputId": "0b807f69-0b74-4dca-88e4-f5064426fad5"
      },
      "execution_count": 3,
      "outputs": [
        {
          "output_type": "stream",
          "name": "stderr",
          "text": [
            "/usr/local/lib/python3.7/dist-packages/sklearn/base.py:451: UserWarning: X does not have valid feature names, but DecisionTreeClassifier was fitted with feature names\n",
            "  \"X does not have valid feature names, but\"\n"
          ]
        }
      ]
    },
    {
      "cell_type": "code",
      "source": [
        "new_student2"
      ],
      "metadata": {
        "colab": {
          "base_uri": "https://localhost:8080/"
        },
        "id": "8h0cHYI5dlWi",
        "outputId": "c7f3a51e-6812-409c-89a5-8ef0069f5963"
      },
      "execution_count": 4,
      "outputs": [
        {
          "output_type": "execute_result",
          "data": {
            "text/plain": [
              "array(['Hockey'], dtype=object)"
            ]
          },
          "metadata": {},
          "execution_count": 4
        }
      ]
    }
  ]
}